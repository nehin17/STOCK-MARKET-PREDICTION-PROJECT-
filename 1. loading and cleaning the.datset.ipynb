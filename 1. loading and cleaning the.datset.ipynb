{
 "cells": [
  {
   "cell_type": "code",
   "execution_count": 1,
   "metadata": {},
   "outputs": [],
   "source": [
    "#IMPORTING LIBRARIES \n",
    "\n",
    "# Data Manipulation and Exploration Libraries\n",
    "import numpy as np\n",
    "import pandas as pd\n",
    "\n",
    "# Data Visualisation Library\n",
    "import matplotlib.pyplot as plt\n",
    "import seaborn as sns\n",
    "\n"
   ]
  },
  {
   "cell_type": "code",
   "execution_count": 2,
   "metadata": {},
   "outputs": [
    {
     "data": {
      "text/html": [
       "<div>\n",
       "<style scoped>\n",
       "    .dataframe tbody tr th:only-of-type {\n",
       "        vertical-align: middle;\n",
       "    }\n",
       "\n",
       "    .dataframe tbody tr th {\n",
       "        vertical-align: top;\n",
       "    }\n",
       "\n",
       "    .dataframe thead th {\n",
       "        text-align: right;\n",
       "    }\n",
       "</style>\n",
       "<table border=\"1\" class=\"dataframe\">\n",
       "  <thead>\n",
       "    <tr style=\"text-align: right;\">\n",
       "      <th></th>\n",
       "      <th>Date</th>\n",
       "      <th>Open</th>\n",
       "      <th>High</th>\n",
       "      <th>Low</th>\n",
       "      <th>Close</th>\n",
       "      <th>Shares Traded</th>\n",
       "      <th>Turnover (₹ Cr)</th>\n",
       "    </tr>\n",
       "  </thead>\n",
       "  <tbody>\n",
       "    <tr>\n",
       "      <th>0</th>\n",
       "      <td>07-AUG-2023</td>\n",
       "      <td>19576.85</td>\n",
       "      <td>19620.45</td>\n",
       "      <td>19524.80</td>\n",
       "      <td>19597.30</td>\n",
       "      <td>216586074.0</td>\n",
       "      <td>21655.87</td>\n",
       "    </tr>\n",
       "    <tr>\n",
       "      <th>1</th>\n",
       "      <td>08-AUG-2023</td>\n",
       "      <td>19627.20</td>\n",
       "      <td>19634.40</td>\n",
       "      <td>19533.10</td>\n",
       "      <td>19570.85</td>\n",
       "      <td>260294052.0</td>\n",
       "      <td>25437.47</td>\n",
       "    </tr>\n",
       "    <tr>\n",
       "      <th>2</th>\n",
       "      <td>09-AUG-2023</td>\n",
       "      <td>19578.80</td>\n",
       "      <td>19645.50</td>\n",
       "      <td>19467.50</td>\n",
       "      <td>19632.55</td>\n",
       "      <td>266495074.0</td>\n",
       "      <td>23201.75</td>\n",
       "    </tr>\n",
       "    <tr>\n",
       "      <th>3</th>\n",
       "      <td>10-AUG-2023</td>\n",
       "      <td>19605.55</td>\n",
       "      <td>19623.60</td>\n",
       "      <td>19495.40</td>\n",
       "      <td>19543.10</td>\n",
       "      <td>312193785.0</td>\n",
       "      <td>29430.34</td>\n",
       "    </tr>\n",
       "    <tr>\n",
       "      <th>4</th>\n",
       "      <td>11-AUG-2023</td>\n",
       "      <td>19554.25</td>\n",
       "      <td>19557.75</td>\n",
       "      <td>19412.75</td>\n",
       "      <td>19428.30</td>\n",
       "      <td>235524048.0</td>\n",
       "      <td>24521.24</td>\n",
       "    </tr>\n",
       "  </tbody>\n",
       "</table>\n",
       "</div>"
      ],
      "text/plain": [
       "         Date      Open      High       Low     Close   Shares Traded   \\\n",
       "0  07-AUG-2023  19576.85  19620.45  19524.80  19597.30     216586074.0   \n",
       "1  08-AUG-2023  19627.20  19634.40  19533.10  19570.85     260294052.0   \n",
       "2  09-AUG-2023  19578.80  19645.50  19467.50  19632.55     266495074.0   \n",
       "3  10-AUG-2023  19605.55  19623.60  19495.40  19543.10     312193785.0   \n",
       "4  11-AUG-2023  19554.25  19557.75  19412.75  19428.30     235524048.0   \n",
       "\n",
       "   Turnover (₹ Cr)  \n",
       "0         21655.87  \n",
       "1         25437.47  \n",
       "2         23201.75  \n",
       "3         29430.34  \n",
       "4         24521.24  "
      ]
     },
     "execution_count": 2,
     "metadata": {},
     "output_type": "execute_result"
    }
   ],
   "source": [
    "df= pd.read_csv(\"NIFTY.csv\")\n",
    "df.head()"
   ]
  },
  {
   "cell_type": "code",
   "execution_count": 3,
   "metadata": {},
   "outputs": [
    {
     "name": "stdout",
     "output_type": "stream",
     "text": [
      " A STATISTICAL SUMMARY OF THE VALUES IN THE DATASET \n",
      " \n"
     ]
    },
    {
     "data": {
      "text/html": [
       "<div>\n",
       "<style scoped>\n",
       "    .dataframe tbody tr th:only-of-type {\n",
       "        vertical-align: middle;\n",
       "    }\n",
       "\n",
       "    .dataframe tbody tr th {\n",
       "        vertical-align: top;\n",
       "    }\n",
       "\n",
       "    .dataframe thead th {\n",
       "        text-align: right;\n",
       "    }\n",
       "</style>\n",
       "<table border=\"1\" class=\"dataframe\">\n",
       "  <thead>\n",
       "    <tr style=\"text-align: right;\">\n",
       "      <th></th>\n",
       "      <th>Open</th>\n",
       "      <th>High</th>\n",
       "      <th>Low</th>\n",
       "      <th>Close</th>\n",
       "      <th>Shares Traded</th>\n",
       "      <th>Turnover (₹ Cr)</th>\n",
       "    </tr>\n",
       "  </thead>\n",
       "  <tbody>\n",
       "    <tr>\n",
       "      <th>count</th>\n",
       "      <td>249.000000</td>\n",
       "      <td>249.000000</td>\n",
       "      <td>249.000000</td>\n",
       "      <td>249.000000</td>\n",
       "      <td>2.480000e+02</td>\n",
       "      <td>248.000000</td>\n",
       "    </tr>\n",
       "    <tr>\n",
       "      <th>mean</th>\n",
       "      <td>21598.482329</td>\n",
       "      <td>21683.773293</td>\n",
       "      <td>21487.543574</td>\n",
       "      <td>21592.458635</td>\n",
       "      <td>3.063947e+08</td>\n",
       "      <td>29496.514355</td>\n",
       "    </tr>\n",
       "    <tr>\n",
       "      <th>std</th>\n",
       "      <td>1644.074540</td>\n",
       "      <td>1660.316643</td>\n",
       "      <td>1623.891535</td>\n",
       "      <td>1645.476507</td>\n",
       "      <td>1.074308e+08</td>\n",
       "      <td>10984.582537</td>\n",
       "    </tr>\n",
       "    <tr>\n",
       "      <th>min</th>\n",
       "      <td>18928.750000</td>\n",
       "      <td>19041.700000</td>\n",
       "      <td>18837.850000</td>\n",
       "      <td>18857.250000</td>\n",
       "      <td>1.906457e+07</td>\n",
       "      <td>1572.770000</td>\n",
       "    </tr>\n",
       "    <tr>\n",
       "      <th>25%</th>\n",
       "      <td>19784.000000</td>\n",
       "      <td>19840.950000</td>\n",
       "      <td>19728.050000</td>\n",
       "      <td>19794.000000</td>\n",
       "      <td>2.358050e+08</td>\n",
       "      <td>22475.532500</td>\n",
       "    </tr>\n",
       "    <tr>\n",
       "      <th>50%</th>\n",
       "      <td>21812.750000</td>\n",
       "      <td>21930.900000</td>\n",
       "      <td>21680.850000</td>\n",
       "      <td>21817.450000</td>\n",
       "      <td>2.917112e+08</td>\n",
       "      <td>28335.330000</td>\n",
       "    </tr>\n",
       "    <tr>\n",
       "      <th>75%</th>\n",
       "      <td>22561.600000</td>\n",
       "      <td>22625.950000</td>\n",
       "      <td>22417.000000</td>\n",
       "      <td>22513.700000</td>\n",
       "      <td>3.576710e+08</td>\n",
       "      <td>34304.830000</td>\n",
       "    </tr>\n",
       "    <tr>\n",
       "      <th>max</th>\n",
       "      <td>25030.950000</td>\n",
       "      <td>25078.300000</td>\n",
       "      <td>24956.400000</td>\n",
       "      <td>25010.900000</td>\n",
       "      <td>1.006105e+09</td>\n",
       "      <td>93786.440000</td>\n",
       "    </tr>\n",
       "  </tbody>\n",
       "</table>\n",
       "</div>"
      ],
      "text/plain": [
       "              Open          High           Low         Close   Shares Traded   \\\n",
       "count    249.000000    249.000000    249.000000    249.000000    2.480000e+02   \n",
       "mean   21598.482329  21683.773293  21487.543574  21592.458635    3.063947e+08   \n",
       "std     1644.074540   1660.316643   1623.891535   1645.476507    1.074308e+08   \n",
       "min    18928.750000  19041.700000  18837.850000  18857.250000    1.906457e+07   \n",
       "25%    19784.000000  19840.950000  19728.050000  19794.000000    2.358050e+08   \n",
       "50%    21812.750000  21930.900000  21680.850000  21817.450000    2.917112e+08   \n",
       "75%    22561.600000  22625.950000  22417.000000  22513.700000    3.576710e+08   \n",
       "max    25030.950000  25078.300000  24956.400000  25010.900000    1.006105e+09   \n",
       "\n",
       "       Turnover (₹ Cr)  \n",
       "count       248.000000  \n",
       "mean      29496.514355  \n",
       "std       10984.582537  \n",
       "min        1572.770000  \n",
       "25%       22475.532500  \n",
       "50%       28335.330000  \n",
       "75%       34304.830000  \n",
       "max       93786.440000  "
      ]
     },
     "execution_count": 3,
     "metadata": {},
     "output_type": "execute_result"
    }
   ],
   "source": [
    "print(\" A STATISTICAL SUMMARY OF THE VALUES IN THE DATASET \")\n",
    "print(\" \")\n",
    "df.describe()"
   ]
  },
  {
   "cell_type": "code",
   "execution_count": 4,
   "metadata": {},
   "outputs": [
    {
     "name": "stdout",
     "output_type": "stream",
     "text": [
      " INFORMATION ABOUT THE DATASET\n",
      " \n",
      "<class 'pandas.core.frame.DataFrame'>\n",
      "RangeIndex: 249 entries, 0 to 248\n",
      "Data columns (total 7 columns):\n",
      " #   Column           Non-Null Count  Dtype  \n",
      "---  ------           --------------  -----  \n",
      " 0   Date             249 non-null    object \n",
      " 1   Open             249 non-null    float64\n",
      " 2   High             249 non-null    float64\n",
      " 3   Low              249 non-null    float64\n",
      " 4   Close            249 non-null    float64\n",
      " 5   Shares Traded    248 non-null    float64\n",
      " 6   Turnover (₹ Cr)  248 non-null    float64\n",
      "dtypes: float64(6), object(1)\n",
      "memory usage: 13.7+ KB\n"
     ]
    }
   ],
   "source": [
    "print(\" INFORMATION ABOUT THE DATASET\")\n",
    "print(\" \")\n",
    "df.info()"
   ]
  },
  {
   "cell_type": "code",
   "execution_count": 5,
   "metadata": {},
   "outputs": [
    {
     "name": "stdout",
     "output_type": "stream",
     "text": [
      "Date               0\n",
      "Open               0\n",
      "High               0\n",
      "Low                0\n",
      "Close              0\n",
      "Shares Traded      1\n",
      "Turnover (₹ Cr)    1\n",
      "dtype: int64\n"
     ]
    }
   ],
   "source": [
    "# checking for null values in the datset \n",
    "print(df.isnull().sum())"
   ]
  },
  {
   "cell_type": "code",
   "execution_count": 6,
   "metadata": {},
   "outputs": [
    {
     "name": "stdout",
     "output_type": "stream",
     "text": [
      " AFTER CORRECTING THE NULL VALUES \n",
      " \n"
     ]
    },
    {
     "data": {
      "text/plain": [
       "Date               0\n",
       "Open               0\n",
       "High               0\n",
       "Low                0\n",
       "Close              0\n",
       "Shares Traded      0\n",
       "Turnover (₹ Cr)    0\n",
       "dtype: int64"
      ]
     },
     "execution_count": 6,
     "metadata": {},
     "output_type": "execute_result"
    }
   ],
   "source": [
    "# Remove any leading/trailing whitespace in column names\n",
    "df.columns = df.columns.str.strip()\n",
    "\n",
    "# fill the null values with the mean of the respective columns \n",
    "df['Shares Traded'] = df['Shares Traded'].fillna(df['Shares Traded'].mean())\n",
    "df['Turnover (₹ Cr)'] = df['Turnover (₹ Cr)'].fillna(df['Turnover (₹ Cr)'].mean())\n",
    "print(\" AFTER CORRECTING THE NULL VALUES \")\n",
    "print(\" \")\n",
    "df.isnull().sum()\n",
    "\n",
    "\n"
   ]
  },
  {
   "cell_type": "code",
   "execution_count": 7,
   "metadata": {},
   "outputs": [
    {
     "name": "stdout",
     "output_type": "stream",
     "text": [
      "the shape of the datset is: (249, 7)\n"
     ]
    }
   ],
   "source": [
    "# printing the shape of the dataset \n",
    "print(\"the shape of the datset is:\" ,df.shape)"
   ]
  },
  {
   "cell_type": "code",
   "execution_count": 8,
   "metadata": {},
   "outputs": [
    {
     "name": "stdout",
     "output_type": "stream",
     "text": [
      "the columns in the datset are: ['Date', 'Open', 'High', 'Low', 'Close', 'Shares Traded', 'Turnover (₹ Cr)']\n"
     ]
    }
   ],
   "source": [
    "# printing a list of all the columns \n",
    "a= df.columns\n",
    "print(\"the columns in the datset are:\", list(a))"
   ]
  },
  {
   "cell_type": "code",
   "execution_count": 9,
   "metadata": {},
   "outputs": [
    {
     "name": "stdout",
     "output_type": "stream",
     "text": [
      "\n",
      " initial data types of columns \n",
      "\n"
     ]
    },
    {
     "data": {
      "text/plain": [
       "Date                object\n",
       "Open               float64\n",
       "High               float64\n",
       "Low                float64\n",
       "Close              float64\n",
       "Shares Traded      float64\n",
       "Turnover (₹ Cr)    float64\n",
       "dtype: object"
      ]
     },
     "execution_count": 9,
     "metadata": {},
     "output_type": "execute_result"
    }
   ],
   "source": [
    "# finding the data types of all the columns for better exploration \n",
    "print(\"\\n initial data types of columns \\n\")\n",
    "df.dtypes"
   ]
  },
  {
   "cell_type": "code",
   "execution_count": 10,
   "metadata": {},
   "outputs": [
    {
     "name": "stderr",
     "output_type": "stream",
     "text": [
      "C:\\Users\\Anand\\AppData\\Local\\Temp\\ipykernel_14268\\191499586.py:2: UserWarning: Could not infer format, so each element will be parsed individually, falling back to `dateutil`. To ensure parsing is consistent and as-expected, please specify a format.\n",
      "  df['Date'] = pd.to_datetime(df['Date'])\n"
     ]
    }
   ],
   "source": [
    "#converting date column to date time datatype \n",
    "df['Date'] = pd.to_datetime(df['Date'])"
   ]
  },
  {
   "cell_type": "code",
   "execution_count": 11,
   "metadata": {},
   "outputs": [
    {
     "name": "stdout",
     "output_type": "stream",
     "text": [
      "\n",
      " data types of columns after conversion  \n",
      "\n"
     ]
    },
    {
     "data": {
      "text/plain": [
       "Date               datetime64[ns]\n",
       "Open                      float64\n",
       "High                      float64\n",
       "Low                       float64\n",
       "Close                     float64\n",
       "Shares Traded             float64\n",
       "Turnover (₹ Cr)           float64\n",
       "dtype: object"
      ]
     },
     "execution_count": 11,
     "metadata": {},
     "output_type": "execute_result"
    }
   ],
   "source": [
    "print(\"\\n data types of columns after conversion  \\n\")\n",
    "df.dtypes"
   ]
  },
  {
   "cell_type": "code",
   "execution_count": 12,
   "metadata": {},
   "outputs": [],
   "source": [
    "# Set 'Date' as the index\n",
    "df.set_index('Date', inplace=True)"
   ]
  },
  {
   "cell_type": "code",
   "execution_count": 13,
   "metadata": {},
   "outputs": [
    {
     "data": {
      "image/png": "[encoded data removed]",
      "text/plain": [
       "<Figure size 500x500 with 1 Axes>"
      ]
     },
     "metadata": {},
     "output_type": "display_data"
    },
    {
     "name": "stdout",
     "output_type": "stream",
     "text": [
      "\n",
      " through the boxplot we can see that there are no outlier to be removed in our dataset \n",
      " \n"
     ]
    }
   ],
   "source": [
    "# CREATING A BOXPLOT\n",
    "# Setting the plot size\n",
    "plt.figure(figsize=(5,5))\n",
    "\n",
    "# Createting a boxplot for multiple columns\n",
    "sns.boxplot(data=df[['Open', 'Close', 'High', 'Low']])\n",
    "\n",
    "plt.title('Boxplot of NIFTY 50 Stock Prices')# Setting the  plot title\n",
    "plt.xlabel('Stock Price Categories')# Setting the x label \n",
    "plt.ylabel('Price')# Setting the y label \n",
    "\n",
    "# Display the plot\n",
    "plt.show()\n",
    "\n",
    "print(\"\\n through the boxplot we can see that there are no outlier to be removed in our dataset \\n \")"
   ]
  },
  {
   "cell_type": "code",
   "execution_count": 14,
   "metadata": {},
   "outputs": [
    {
     "data": {
      "image/png": "[encoded data removed]",
      "text/plain": [
       "<Figure size 500x500 with 2 Axes>"
      ]
     },
     "metadata": {},
     "output_type": "display_data"
    },
    {
     "data": {
      "text/plain": [
       "'A correlation matrix is a table showing correlation coefficients between multiple variables.\\n It helps in understanding the relationships between variables in a dataset.\\n A correlation coefficient of 1 shows a perfect positive relationship \\n A correlation coefficient of -1 shows a perfect negative relationship \\n A correlation coefficient of 0 shows no relationship between the variables'"
      ]
     },
     "execution_count": 14,
     "metadata": {},
     "output_type": "execute_result"
    }
   ],
   "source": [
    "# creating a correlation matrix\n",
    "correlation_matrix = df.corr()\n",
    "\n",
    "# Plotting the correlation matrix\n",
    "plt.figure(figsize=(5,5))\n",
    "sns.heatmap(correlation_matrix, annot=True, cmap='coolwarm')\n",
    "plt.title('Correlation Matrix')\n",
    "plt.show()\n",
    "\n",
    "'''A correlation matrix is a table showing correlation coefficients between multiple variables.\n",
    " It helps in understanding the relationships between variables in a dataset.\n",
    " A correlation coefficient of 1 shows a perfect positive relationship \n",
    " A correlation coefficient of -1 shows a perfect negative relationship \n",
    " A correlation coefficient of 0 shows no relationship between the variables'''\n"
   ]
  },
  {
   "cell_type": "code",
   "execution_count": 15,
   "metadata": {},
   "outputs": [],
   "source": [
    "# Save the cleaned dataset for further use\n",
    "df.to_csv('nifty50_cleaned.csv', index=True)\n"
   ]
  }
 ],
 "metadata": {
  "kernelspec": {
   "display_name": "base",
   "language": "python",
   "name": "python3"
  },
  "language_info": {
   "codemirror_mode": {
    "name": "ipython",
    "version": 3
   },
   "file_extension": ".py",
   "mimetype": "text/x-python",
   "name": "python",
   "nbconvert_exporter": "python",
   "pygments_lexer": "ipython3",
   "version": "3.11.7"
  }
 },
 "nbformat": 4,
 "nbformat_minor": 2
}
